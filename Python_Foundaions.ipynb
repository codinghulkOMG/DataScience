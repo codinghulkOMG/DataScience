{
  "nbformat": 4,
  "nbformat_minor": 0,
  "metadata": {
    "colab": {
      "provenance": [],
      "authorship_tag": "ABX9TyP7ICfFO5ejPR/SZdSv/ifR",
      "include_colab_link": true
    },
    "kernelspec": {
      "name": "python3",
      "display_name": "Python 3"
    },
    "language_info": {
      "name": "python"
    }
  },
  "cells": [
    {
      "cell_type": "markdown",
      "metadata": {
        "id": "view-in-github",
        "colab_type": "text"
      },
      "source": [
        "<a href=\"https://colab.research.google.com/github/codinghulkOMG/DataScience/blob/main/Python_Foundaions.ipynb\" target=\"_parent\"><img src=\"https://colab.research.google.com/assets/colab-badge.svg\" alt=\"Open In Colab\"/></a>"
      ]
    },
    {
      "cell_type": "markdown",
      "source": [
        "print() function  -> display the output to the screen"
      ],
      "metadata": {
        "id": "iFKFDl_pHKv4"
      }
    },
    {
      "cell_type": "code",
      "execution_count": null,
      "metadata": {
        "id": "G3CSyVWwDhDg",
        "colab": {
          "base_uri": "https://localhost:8080/"
        },
        "outputId": "bf9efbcd-310d-44de-b7b6-c07bd7fb05b3"
      },
      "outputs": [
        {
          "output_type": "stream",
          "name": "stdout",
          "text": [
            "Hello Yash\n"
          ]
        }
      ],
      "source": [
        "print(\"Hello Yash\")"
      ]
    },
    {
      "cell_type": "code",
      "source": [
        "print(\" Hello \")\n",
        "print(\" World \")"
      ],
      "metadata": {
        "colab": {
          "base_uri": "https://localhost:8080/"
        },
        "id": "15GyycqmG-Gw",
        "outputId": "9e360680-1e88-4c95-beeb-8ba78fae93b6"
      },
      "execution_count": null,
      "outputs": [
        {
          "output_type": "stream",
          "name": "stdout",
          "text": [
            "Hello \n",
            "World\n"
          ]
        }
      ]
    },
    {
      "cell_type": "markdown",
      "source": [
        "By default , the print function uses 'end' parameter with a new line.  Agar same line me karna hoga to usually End parameter use karte hai"
      ],
      "metadata": {
        "id": "7HRwBfiJHkrf"
      }
    },
    {
      "cell_type": "code",
      "source": [
        "print (\"Hello\" , end =\" \")\n",
        "print (\"World \")"
      ],
      "metadata": {
        "colab": {
          "base_uri": "https://localhost:8080/"
        },
        "id": "zF6LEGGZHkXc",
        "outputId": "d9d39dc2-0230-408b-8c23-a0a47bf3ab52"
      },
      "execution_count": null,
      "outputs": [
        {
          "output_type": "stream",
          "name": "stdout",
          "text": [
            "Hello World \n"
          ]
        }
      ]
    },
    {
      "cell_type": "markdown",
      "source": [
        "Print - Pythong-Programming\n"
      ],
      "metadata": {
        "id": "cmB2YlHrIBRs"
      }
    },
    {
      "cell_type": "code",
      "source": [
        "print(\"Python\", end = \"-\")\n",
        "print (\"programming\")"
      ],
      "metadata": {
        "colab": {
          "base_uri": "https://localhost:8080/"
        },
        "id": "yfAA3deHHdWB",
        "outputId": "9c47ca3f-f6ef-46ac-bde0-5c872f865512"
      },
      "execution_count": null,
      "outputs": [
        {
          "output_type": "stream",
          "name": "stdout",
          "text": [
            "Python-programming\n"
          ]
        }
      ]
    },
    {
      "cell_type": "markdown",
      "source": [
        "'sep' parameter"
      ],
      "metadata": {
        "id": "cR5BDB-rIV-N"
      }
    },
    {
      "cell_type": "code",
      "source": [
        "print(\"apple\" , \"banana\" , \"orange\")"
      ],
      "metadata": {
        "colab": {
          "base_uri": "https://localhost:8080/"
        },
        "id": "l_XLChvTIJXa",
        "outputId": "2e751dad-2a0e-4f2d-87e7-02e59130c025"
      },
      "execution_count": null,
      "outputs": [
        {
          "output_type": "stream",
          "name": "stdout",
          "text": [
            "apple banana orange\n"
          ]
        }
      ]
    },
    {
      "cell_type": "markdown",
      "source": [
        "seperate above now with ,"
      ],
      "metadata": {
        "id": "a3ZunkNpIrND"
      }
    },
    {
      "cell_type": "code",
      "source": [
        "print(\"apple\" , \"banana\" , \"orange\" , sep = ',')"
      ],
      "metadata": {
        "colab": {
          "base_uri": "https://localhost:8080/"
        },
        "id": "a5ZuJ4xSIkDH",
        "outputId": "2a77fa23-6a6f-4794-e99e-021d77be020e"
      },
      "execution_count": null,
      "outputs": [
        {
          "output_type": "stream",
          "name": "stdout",
          "text": [
            "apple,banana,orange\n"
          ]
        }
      ]
    },
    {
      "cell_type": "markdown",
      "source": [
        "Till now we have disussed only print function , abhi ham input() function discuss karenge"
      ],
      "metadata": {
        "id": "LDtIzEkbJT0w"
      }
    },
    {
      "cell_type": "code",
      "source": [
        "user_input = input(\"Enter your name : \")\n",
        "print(\"Hey\")"
      ],
      "metadata": {
        "colab": {
          "base_uri": "https://localhost:8080/"
        },
        "id": "wdFHiIo0I1WB",
        "outputId": "6d85430c-0f6c-4ce3-bc79-605740cc1d1a"
      },
      "execution_count": null,
      "outputs": [
        {
          "output_type": "stream",
          "name": "stdout",
          "text": [
            "Enter your name : Yash Yadav\n",
            "Hey\n"
          ]
        }
      ]
    },
    {
      "cell_type": "markdown",
      "source": [
        "Agar mujhe sting aur var eksaath lana he to kaise kare? with the help of + operator"
      ],
      "metadata": {
        "id": "iXmGaXGcJu9_"
      }
    },
    {
      "cell_type": "code",
      "source": [
        "user_input = input(\"Enter your name : \")\n",
        "print(\"Hey , my name is \" + user_input)"
      ],
      "metadata": {
        "colab": {
          "base_uri": "https://localhost:8080/"
        },
        "id": "WS_WMahAJfXm",
        "outputId": "f9613a01-2ff5-47cd-f569-928a6ed0ad81"
      },
      "execution_count": null,
      "outputs": [
        {
          "output_type": "stream",
          "name": "stdout",
          "text": [
            "Enter your name : Yash Yadav\n",
            "Hey , my name is Yash Yadav\n"
          ]
        }
      ]
    },
    {
      "cell_type": "markdown",
      "source": [
        "Comments - 2 types single line , multiple line"
      ],
      "metadata": {
        "id": "rKOleV64Lt-9"
      }
    },
    {
      "cell_type": "code",
      "source": [
        "# This is my first single line comment in python\n",
        "print(\"Comment\")"
      ],
      "metadata": {
        "colab": {
          "base_uri": "https://localhost:8080/"
        },
        "id": "NfbCNn3NJ6iU",
        "outputId": "ceacc74e-2c9f-4451-9cb6-459431613519"
      },
      "execution_count": null,
      "outputs": [
        {
          "output_type": "stream",
          "name": "stdout",
          "text": [
            "Comment\n"
          ]
        }
      ]
    },
    {
      "cell_type": "code",
      "source": [
        "'''\n",
        "this is my first multi line comment mostly used for\n",
        "documnting larger sections of the code\n",
        "'''\n",
        "print(\"Multiline kar print\")"
      ],
      "metadata": {
        "colab": {
          "base_uri": "https://localhost:8080/"
        },
        "id": "wwl_fYMHMODL",
        "outputId": "46502362-4c31-477b-8b98-fcfd034d9114"
      },
      "execution_count": null,
      "outputs": [
        {
          "output_type": "stream",
          "name": "stdout",
          "text": [
            "Multiline kar print\n"
          ]
        }
      ]
    },
    {
      "cell_type": "markdown",
      "source": [
        "Indentation : mtlb structure of the code block. jaise curly braces use karte hai maximum prog languages me {} , but python me aise nahi hota bas proper spacing dena hota hai"
      ],
      "metadata": {
        "id": "dJCUjmeaMvZq"
      }
    },
    {
      "cell_type": "code",
      "source": [
        "x = 5 #lets say x ki value 5 hai\n",
        "if x > 3: # x is greater than three\n",
        "  print(\"x is greater than 3\") ''' agar x ki given value 3 se jyada hai to\n",
        "                                   ye print hoga\n",
        "                                  '''"
      ],
      "metadata": {
        "colab": {
          "base_uri": "https://localhost:8080/"
        },
        "id": "-DkAPyRmMQZC",
        "outputId": "cc8d007f-46ee-44f4-8a02-2a17c5dcdce1"
      },
      "execution_count": null,
      "outputs": [
        {
          "output_type": "stream",
          "name": "stdout",
          "text": [
            "x is greater than 3\n"
          ]
        }
      ]
    },
    {
      "cell_type": "markdown",
      "source": [
        "Variales kya hai ? : containers that hold the data"
      ],
      "metadata": {
        "id": "0P94OJlDOvj9"
      }
    },
    {
      "cell_type": "code",
      "source": [
        "x , y , z = 10 , 20 ,30\n",
        "print(x)\n",
        "print(y)\n",
        "print(z)"
      ],
      "metadata": {
        "colab": {
          "base_uri": "https://localhost:8080/"
        },
        "id": "wMGj2G84Oy7J",
        "outputId": "d92bc63d-defe-496d-927b-451168da7668"
      },
      "execution_count": null,
      "outputs": [
        {
          "output_type": "stream",
          "name": "stdout",
          "text": [
            "10\n",
            "20\n",
            "30\n"
          ]
        }
      ]
    },
    {
      "cell_type": "code",
      "source": [
        "x = y =  z = \"Hello\"\n",
        "print(x)\n",
        "print(y)\n",
        "print(z)"
      ],
      "metadata": {
        "colab": {
          "base_uri": "https://localhost:8080/"
        },
        "id": "cYsmCj8rPX-n",
        "outputId": "05e906aa-b66b-432c-e4b7-0a9a1419d166"
      },
      "execution_count": null,
      "outputs": [
        {
          "output_type": "stream",
          "name": "stdout",
          "text": [
            "Hello\n",
            "Hello\n",
            "Hello\n"
          ]
        }
      ]
    },
    {
      "cell_type": "markdown",
      "source": [
        "Data type : kisi bhi data ka nature dekhna hai , that any specific variable can hold"
      ],
      "metadata": {
        "id": "q7MXp6CgP7M3"
      }
    },
    {
      "cell_type": "markdown",
      "source": [
        "Numbers"
      ],
      "metadata": {
        "id": "GBDhufktQFhS"
      }
    },
    {
      "cell_type": "code",
      "source": [
        "x = 10 #int type\n",
        "y =3.14 #Float type\n",
        "z = 2+3j #Complex type\n",
        "\n",
        "type(z)"
      ],
      "metadata": {
        "colab": {
          "base_uri": "https://localhost:8080/"
        },
        "id": "13LYaQnTPoc6",
        "outputId": "20e0aaf8-8ca4-4b6c-a21b-db80ba230647"
      },
      "execution_count": null,
      "outputs": [
        {
          "output_type": "execute_result",
          "data": {
            "text/plain": [
              "complex"
            ]
          },
          "metadata": {},
          "execution_count": 27
        }
      ]
    },
    {
      "cell_type": "code",
      "source": [
        "type(y)"
      ],
      "metadata": {
        "colab": {
          "base_uri": "https://localhost:8080/"
        },
        "id": "ckg8T6llQZLR",
        "outputId": "6896338b-7e65-445e-9d0c-ba12b56aa441"
      },
      "execution_count": null,
      "outputs": [
        {
          "output_type": "execute_result",
          "data": {
            "text/plain": [
              "float"
            ]
          },
          "metadata": {},
          "execution_count": 28
        }
      ]
    },
    {
      "cell_type": "code",
      "source": [
        "type(x)"
      ],
      "metadata": {
        "colab": {
          "base_uri": "https://localhost:8080/"
        },
        "id": "bz3I9qZvQcrs",
        "outputId": "adaab0b3-e3d1-4cdf-fc77-d84efc58f6d3"
      },
      "execution_count": null,
      "outputs": [
        {
          "output_type": "execute_result",
          "data": {
            "text/plain": [
              "int"
            ]
          },
          "metadata": {},
          "execution_count": 29
        }
      ]
    },
    {
      "cell_type": "code",
      "source": [
        "z.real"
      ],
      "metadata": {
        "colab": {
          "base_uri": "https://localhost:8080/"
        },
        "id": "38h4fiSBQds0",
        "outputId": "bcdd607e-4b94-489c-9764-d997a8ff7ed1"
      },
      "execution_count": null,
      "outputs": [
        {
          "output_type": "execute_result",
          "data": {
            "text/plain": [
              "2.0"
            ]
          },
          "metadata": {},
          "execution_count": 30
        }
      ]
    },
    {
      "cell_type": "code",
      "source": [
        "z.imag #3 ayega output kyu ki 3 hamne j ke saath use kiya hai"
      ],
      "metadata": {
        "colab": {
          "base_uri": "https://localhost:8080/"
        },
        "id": "jqIWjA7VQwUY",
        "outputId": "0e298e6c-6cb6-4f19-9e24-5c1b29d0156e"
      },
      "execution_count": null,
      "outputs": [
        {
          "output_type": "execute_result",
          "data": {
            "text/plain": [
              "3.0"
            ]
          },
          "metadata": {},
          "execution_count": 31
        }
      ]
    },
    {
      "cell_type": "markdown",
      "source": [
        "String : sequence of characters enclosed within single or doble quotes"
      ],
      "metadata": {
        "id": "lCToKBlcQ4ZA"
      }
    },
    {
      "cell_type": "code",
      "source": [
        "name = \"john\"\n",
        "type(name)"
      ],
      "metadata": {
        "colab": {
          "base_uri": "https://localhost:8080/"
        },
        "id": "VtfpsrGzQyJH",
        "outputId": "6b185409-a073-4b2f-da6c-af295bf6cdb7"
      },
      "execution_count": null,
      "outputs": [
        {
          "output_type": "execute_result",
          "data": {
            "text/plain": [
              "str"
            ]
          },
          "metadata": {},
          "execution_count": 32
        }
      ]
    },
    {
      "cell_type": "code",
      "source": [],
      "metadata": {
        "id": "VNXKRi-DRZKe"
      },
      "execution_count": null,
      "outputs": []
    }
  ]
}